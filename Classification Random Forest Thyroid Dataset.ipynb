{
 "cells": [
  {
   "cell_type": "markdown",
   "id": "58aae900",
   "metadata": {},
   "source": [
    "# Classification Random Forest of Thyroid Dataset"
   ]
  },
  {
   "cell_type": "code",
   "execution_count": 30,
   "id": "a7cfdddb",
   "metadata": {},
   "outputs": [],
   "source": [
    "import warnings\n",
    "warnings.filterwarnings(\"ignore\")\n",
    "\n",
    "import pandas as pd\n",
    "import numpy as np\n",
    "\n",
    "\n",
    "from sklearn.preprocessing import label_binarize\n",
    "from sklearn.impute import SimpleImputer\n",
    "from sklearn.preprocessing import MinMaxScaler\n",
    "from sklearn.preprocessing import StandardScaler\n",
    "from sklearn.utils.class_weight import compute_class_weight\n",
    "from sklearn.model_selection import GridSearchCV, train_test_split, cross_val_score\n",
    "from sklearn.metrics import classification_report, accuracy_score, confusion_matrix\n",
    "from sklearn.preprocessing import LabelEncoder\n",
    "\n",
    "from sklearn.ensemble import RandomForestClassifier\n",
    "from sklearn.model_selection import RandomizedSearchCV\n",
    "from sklearn.decomposition import PCA\n",
    "\n",
    "from sklearn.pipeline import Pipeline\n",
    "\n",
    "import matplotlib.pyplot as plt\n",
    "%matplotlib inline"
   ]
  },
  {
   "cell_type": "code",
   "execution_count": null,
   "id": "c57585c9",
   "metadata": {},
   "outputs": [],
   "source": [
    "#helper functions"
   ]
  },
  {
   "cell_type": "code",
   "execution_count": 6,
   "id": "783e8a02",
   "metadata": {},
   "outputs": [],
   "source": [
    "def parse_row(row):\n",
    "    row = row.split(\".\")[0]\n",
    "    return row\n",
    "\n",
    "def to_hyperthyroid(row):\n",
    "    if row != \"negative\":\n",
    "        row = \"hyperthyroid\"\n",
    "    return row\n",
    "\n",
    "def to_hypothyroid(row):\n",
    "    if row != \"negative\":\n",
    "        row = \"hypothyroid\"\n",
    "    return row\n",
    "\n",
    "def convert_category(dataframe, column):\n",
    "    \n",
    "    if column == 'Sex':\n",
    "        conditionF = dataframe[column] == 'F' # For sex column\n",
    "        conditionT = dataframe[column] == 'M' # For sex column\n",
    "    else:\n",
    "        conditionF = dataframe[column] == 'f'\n",
    "        conditionT = dataframe[column] == 't'\n",
    "    \n",
    "    dataframe.loc[conditionF, column] = 0\n",
    "    dataframe.loc[conditionT, column] = 1"
   ]
  },
  {
   "cell_type": "markdown",
   "id": "88e14b30",
   "metadata": {},
   "source": [
    "# Data Retrival"
   ]
  },
  {
   "cell_type": "code",
   "execution_count": 7,
   "id": "156a9b38",
   "metadata": {},
   "outputs": [],
   "source": [
    "columns = [\"Age\", \"Sex\", \"On Thyroxine\", \"Query on Thyroxine\", \n",
    "           \"On Antithyroid Medication\", \"Sick\", \"Pregnant\", \n",
    "           \"Thyroid Surgery\", \"I131 Treatment\", \"Query Hypothyroid\", \n",
    "           \"Query Hyperthyroid\", \"Lithium\", \"Goitre\", \"Tumor\", \n",
    "           \"Hypopituitary\", \"Psych\", \"TSH Measured\", \"TSH\", \"T3 Measured\", \n",
    "           \"T3\", \"TT4 Measured\", \"TT4\", \"T4U Measured\", \"T4U\", \n",
    "           \"FTI Measured\", \"FTI\", \"TBG Measured\", \"TBG\", \"Referral Source\", \"Category\"]"
   ]
  },
  {
   "cell_type": "code",
   "execution_count": 8,
   "id": "dbe1372e",
   "metadata": {},
   "outputs": [],
   "source": [
    "hyper_data = pd.read_csv(\"hypothyroid.csv\", names=columns)\n",
    "hypo_data = pd.read_csv(\"hypothyroid.csv\", names=columns)\n",
    "sick_data = pd.read_csv(\"hypothyroid.csv\", names=columns)"
   ]
  },
  {
   "cell_type": "code",
   "execution_count": 9,
   "id": "d9ebd195",
   "metadata": {},
   "outputs": [],
   "source": [
    "hyper_data['Category'] = hyper_data['Category'].apply(parse_row).apply(to_hyperthyroid)\n",
    "\n",
    "hypo_data['Category'] = hypo_data['Category'].apply(parse_row).apply(to_hypothyroid)\n",
    "\n",
    "sick_data['Category'] = sick_data['Category'].apply(parse_row)"
   ]
  },
  {
   "cell_type": "code",
   "execution_count": 10,
   "id": "f6acad2d",
   "metadata": {},
   "outputs": [],
   "source": [
    "# Combined Thyroid Data\n",
    "\n",
    "thyroid_frames = [hyper_data, hypo_data, sick_data]\n",
    "thyroid_data = pd.concat(thyroid_frames).drop_duplicates().drop(['Referral Source', 'TBG', 'TBG Measured'], axis=1)"
   ]
  },
  {
   "cell_type": "code",
   "execution_count": 11,
   "id": "a436209e",
   "metadata": {},
   "outputs": [
    {
     "data": {
      "text/plain": [
       "array(['hyperthyroid', 'hypothyroid', 'binaryClass', 'P', 'N'],\n",
       "      dtype=object)"
      ]
     },
     "execution_count": 11,
     "metadata": {},
     "output_type": "execute_result"
    }
   ],
   "source": [
    "classes = thyroid_data['Category'].unique()\n",
    "classes"
   ]
  },
  {
   "cell_type": "code",
   "execution_count": 12,
   "id": "284016a2",
   "metadata": {},
   "outputs": [
    {
     "name": "stdout",
     "output_type": "stream",
     "text": [
      "Number of samples: 11136\n"
     ]
    }
   ],
   "source": [
    "print(\"Number of samples:\", len(thyroid_data))"
   ]
  },
  {
   "cell_type": "code",
   "execution_count": 18,
   "id": "389e6641",
   "metadata": {},
   "outputs": [
    {
     "data": {
      "text/html": [
       "<div>\n",
       "<style scoped>\n",
       "    .dataframe tbody tr th:only-of-type {\n",
       "        vertical-align: middle;\n",
       "    }\n",
       "\n",
       "    .dataframe tbody tr th {\n",
       "        vertical-align: top;\n",
       "    }\n",
       "\n",
       "    .dataframe thead th {\n",
       "        text-align: right;\n",
       "    }\n",
       "</style>\n",
       "<table border=\"1\" class=\"dataframe\">\n",
       "  <thead>\n",
       "    <tr style=\"text-align: right;\">\n",
       "      <th></th>\n",
       "      <th>Age</th>\n",
       "      <th>Sex</th>\n",
       "      <th>On Thyroxine</th>\n",
       "      <th>Query on Thyroxine</th>\n",
       "      <th>On Antithyroid Medication</th>\n",
       "      <th>Sick</th>\n",
       "      <th>Pregnant</th>\n",
       "      <th>Thyroid Surgery</th>\n",
       "      <th>I131 Treatment</th>\n",
       "      <th>Query Hypothyroid</th>\n",
       "      <th>...</th>\n",
       "      <th>TSH</th>\n",
       "      <th>T3 Measured</th>\n",
       "      <th>T3</th>\n",
       "      <th>TT4 Measured</th>\n",
       "      <th>TT4</th>\n",
       "      <th>T4U Measured</th>\n",
       "      <th>T4U</th>\n",
       "      <th>FTI Measured</th>\n",
       "      <th>FTI</th>\n",
       "      <th>Category</th>\n",
       "    </tr>\n",
       "  </thead>\n",
       "  <tbody>\n",
       "    <tr>\n",
       "      <th>0</th>\n",
       "      <td>age</td>\n",
       "      <td>sex</td>\n",
       "      <td>on thyroxine</td>\n",
       "      <td>query on thyroxine</td>\n",
       "      <td>on antithyroid medication</td>\n",
       "      <td>sick</td>\n",
       "      <td>pregnant</td>\n",
       "      <td>thyroid surgery</td>\n",
       "      <td>I131 treatment</td>\n",
       "      <td>query hypothyroid</td>\n",
       "      <td>...</td>\n",
       "      <td>TSH</td>\n",
       "      <td>T3 measured</td>\n",
       "      <td>T3</td>\n",
       "      <td>TT4 measured</td>\n",
       "      <td>TT4</td>\n",
       "      <td>T4U measured</td>\n",
       "      <td>T4U</td>\n",
       "      <td>FTI measured</td>\n",
       "      <td>FTI</td>\n",
       "      <td>hyperthyroid</td>\n",
       "    </tr>\n",
       "    <tr>\n",
       "      <th>1</th>\n",
       "      <td>41</td>\n",
       "      <td>F</td>\n",
       "      <td>f</td>\n",
       "      <td>f</td>\n",
       "      <td>f</td>\n",
       "      <td>f</td>\n",
       "      <td>f</td>\n",
       "      <td>f</td>\n",
       "      <td>f</td>\n",
       "      <td>f</td>\n",
       "      <td>...</td>\n",
       "      <td>1.3</td>\n",
       "      <td>t</td>\n",
       "      <td>2.5</td>\n",
       "      <td>t</td>\n",
       "      <td>125</td>\n",
       "      <td>t</td>\n",
       "      <td>1.14</td>\n",
       "      <td>t</td>\n",
       "      <td>109</td>\n",
       "      <td>hyperthyroid</td>\n",
       "    </tr>\n",
       "    <tr>\n",
       "      <th>2</th>\n",
       "      <td>23</td>\n",
       "      <td>F</td>\n",
       "      <td>f</td>\n",
       "      <td>f</td>\n",
       "      <td>f</td>\n",
       "      <td>f</td>\n",
       "      <td>f</td>\n",
       "      <td>f</td>\n",
       "      <td>f</td>\n",
       "      <td>f</td>\n",
       "      <td>...</td>\n",
       "      <td>4.1</td>\n",
       "      <td>t</td>\n",
       "      <td>2</td>\n",
       "      <td>t</td>\n",
       "      <td>102</td>\n",
       "      <td>f</td>\n",
       "      <td>?</td>\n",
       "      <td>f</td>\n",
       "      <td>?</td>\n",
       "      <td>hyperthyroid</td>\n",
       "    </tr>\n",
       "    <tr>\n",
       "      <th>3</th>\n",
       "      <td>46</td>\n",
       "      <td>M</td>\n",
       "      <td>f</td>\n",
       "      <td>f</td>\n",
       "      <td>f</td>\n",
       "      <td>f</td>\n",
       "      <td>f</td>\n",
       "      <td>f</td>\n",
       "      <td>f</td>\n",
       "      <td>f</td>\n",
       "      <td>...</td>\n",
       "      <td>0.98</td>\n",
       "      <td>f</td>\n",
       "      <td>?</td>\n",
       "      <td>t</td>\n",
       "      <td>109</td>\n",
       "      <td>t</td>\n",
       "      <td>0.91</td>\n",
       "      <td>t</td>\n",
       "      <td>120</td>\n",
       "      <td>hyperthyroid</td>\n",
       "    </tr>\n",
       "    <tr>\n",
       "      <th>4</th>\n",
       "      <td>70</td>\n",
       "      <td>F</td>\n",
       "      <td>t</td>\n",
       "      <td>f</td>\n",
       "      <td>f</td>\n",
       "      <td>f</td>\n",
       "      <td>f</td>\n",
       "      <td>f</td>\n",
       "      <td>f</td>\n",
       "      <td>f</td>\n",
       "      <td>...</td>\n",
       "      <td>0.16</td>\n",
       "      <td>t</td>\n",
       "      <td>1.9</td>\n",
       "      <td>t</td>\n",
       "      <td>175</td>\n",
       "      <td>f</td>\n",
       "      <td>?</td>\n",
       "      <td>f</td>\n",
       "      <td>?</td>\n",
       "      <td>hyperthyroid</td>\n",
       "    </tr>\n",
       "  </tbody>\n",
       "</table>\n",
       "<p>5 rows × 27 columns</p>\n",
       "</div>"
      ],
      "text/plain": [
       "   Age  Sex  On Thyroxine  Query on Thyroxine  On Antithyroid Medication  \\\n",
       "0  age  sex  on thyroxine  query on thyroxine  on antithyroid medication   \n",
       "1   41    F             f                   f                          f   \n",
       "2   23    F             f                   f                          f   \n",
       "3   46    M             f                   f                          f   \n",
       "4   70    F             t                   f                          f   \n",
       "\n",
       "   Sick  Pregnant  Thyroid Surgery  I131 Treatment  Query Hypothyroid  ...  \\\n",
       "0  sick  pregnant  thyroid surgery  I131 treatment  query hypothyroid  ...   \n",
       "1     f         f                f               f                  f  ...   \n",
       "2     f         f                f               f                  f  ...   \n",
       "3     f         f                f               f                  f  ...   \n",
       "4     f         f                f               f                  f  ...   \n",
       "\n",
       "    TSH  T3 Measured   T3  TT4 Measured  TT4  T4U Measured   T4U  \\\n",
       "0   TSH  T3 measured   T3  TT4 measured  TT4  T4U measured   T4U   \n",
       "1   1.3            t  2.5             t  125             t  1.14   \n",
       "2   4.1            t    2             t  102             f     ?   \n",
       "3  0.98            f    ?             t  109             t  0.91   \n",
       "4  0.16            t  1.9             t  175             f     ?   \n",
       "\n",
       "   FTI Measured  FTI      Category  \n",
       "0  FTI measured  FTI  hyperthyroid  \n",
       "1             t  109  hyperthyroid  \n",
       "2             f    ?  hyperthyroid  \n",
       "3             t  120  hyperthyroid  \n",
       "4             f    ?  hyperthyroid  \n",
       "\n",
       "[5 rows x 27 columns]"
      ]
     },
     "execution_count": 18,
     "metadata": {},
     "output_type": "execute_result"
    }
   ],
   "source": [
    "thyroid_data.head()"
   ]
  },
  {
   "cell_type": "markdown",
   "id": "3920abd3",
   "metadata": {},
   "source": [
    "# Data Cleaning"
   ]
  },
  {
   "cell_type": "code",
   "execution_count": 13,
   "id": "70a76dc5",
   "metadata": {},
   "outputs": [],
   "source": [
    "# Binarize Category Columns\n",
    "binary_cols = ['On Thyroxine', 'Query on Thyroxine', 'Sex',\n",
    "               'On Antithyroid Medication', 'Sick', 'Pregnant', \n",
    "               'Thyroid Surgery', 'I131 Treatment', 'Query Hypothyroid', \n",
    "               'Query Hyperthyroid', 'Lithium', 'Goitre', 'Tumor', \n",
    "               'Hypopituitary', 'Psych', 'TSH Measured', 'T3 Measured', \n",
    "               'TT4 Measured', 'T4U Measured', 'FTI Measured']\n",
    "\n",
    "for col in binary_cols: convert_category(thyroid_data, col)"
   ]
  },
  {
   "cell_type": "code",
   "execution_count": 14,
   "id": "85252d27",
   "metadata": {},
   "outputs": [],
   "source": [
    "thyroid_data=thyroid_data.drop(0)"
   ]
  },
  {
   "cell_type": "code",
   "execution_count": 15,
   "id": "5972f599",
   "metadata": {},
   "outputs": [],
   "source": [
    "# Convert '?' to np.nan and convert numeric data to numeric dtype\n",
    "\n",
    "for col in thyroid_data.columns: \n",
    "    if col != 'Category':\n",
    "        thyroid_data.loc[thyroid_data[col] == '?', col] = np.nan\n",
    "        thyroid_data['Age'] = pd.to_numeric(thyroid_data['Age'],errors= 'coerce')"
   ]
  },
  {
   "cell_type": "code",
   "execution_count": 16,
   "id": "4c9e7e8a",
   "metadata": {},
   "outputs": [],
   "source": [
    "curr_columns = thyroid_data.columns.difference(['Category'])\n",
    "\n",
    "imputer = SimpleImputer(missing_values=np.nan, strategy='median')\n",
    "imputed_data = imputer.fit_transform(thyroid_data.drop('Category', axis=1))\n",
    "imputed_data = pd.DataFrame(imputed_data, columns=curr_columns)\n",
    "\n",
    "thyroid_data = pd.concat([\n",
    "                    imputed_data.reset_index(), \n",
    "                    thyroid_data['Category'].reset_index()], \n",
    "                    axis=1).drop('index', axis=1)"
   ]
  },
  {
   "cell_type": "code",
   "execution_count": 17,
   "id": "fb25da53",
   "metadata": {},
   "outputs": [
    {
     "name": "stdout",
     "output_type": "stream",
     "text": [
      "Unique of Colum- Age \n",
      "Unique values \n",
      " [  1.   2.   4.   5.   6.   7.   8.  10.  11.  12.  13.  14.  15.  16.\n",
      "  17.  18.  19.  20.  21.  22.  23.  24.  25.  26.  27.  28.  29.  30.\n",
      "  31.  32.  33.  34.  35.  36.  37.  38.  39.  40.  41.  42.  43.  44.\n",
      "  45.  46.  47.  48.  49.  50.  51.  52.  53.  54.  55.  56.  57.  58.\n",
      "  59.  60.  61.  62.  63.  64.  65.  66.  67.  68.  69.  70.  71.  72.\n",
      "  73.  74.  75.  76.  77.  78.  79.  80.  81.  82.  83.  84.  85.  86.\n",
      "  87.  88.  89.  90.  91.  92.  93.  94. 455.]\n",
      "Unique of Colum- FTI \n",
      "Unique values \n",
      " [0. 1.]\n",
      "Unique of Colum- FTI Measured \n",
      "Unique values \n",
      " [0. 1.]\n",
      "Unique of Colum- Goitre \n",
      "Unique values \n",
      " [0. 1.]\n",
      "Unique of Colum- Hypopituitary \n",
      "Unique values \n",
      " [0. 1.]\n",
      "Unique of Colum- I131 Treatment \n",
      "Unique values \n",
      " [0. 1.]\n",
      "Unique of Colum- Lithium \n",
      "Unique values \n",
      " [0. 1.]\n",
      "Unique of Colum- On Antithyroid Medication \n",
      "Unique values \n",
      " [0. 1.]\n",
      "Unique of Colum- On Thyroxine \n",
      "Unique values \n",
      " [0. 1.]\n",
      "Unique of Colum- Pregnant \n",
      "Unique values \n",
      " [0. 1.]\n",
      "Unique of Colum- Psych \n",
      "Unique values \n",
      " [0. 1.]\n",
      "Unique of Colum- Query Hyperthyroid \n",
      "Unique values \n",
      " [0. 1.]\n",
      "Unique of Colum- Query Hypothyroid \n",
      "Unique values \n",
      " [0. 1.]\n",
      "Unique of Colum- Query on Thyroxine \n",
      "Unique values \n",
      " [0. 1.]\n",
      "Unique of Colum- Sex \n",
      "Unique values \n",
      " [0. 1.]\n",
      "Unique of Colum- Sick \n",
      "Unique values \n",
      " [0. 1.]\n",
      "Unique of Colum- T3 \n",
      "Unique values \n",
      " [0. 1.]\n",
      "Unique of Colum- T3 Measured \n",
      "Unique values \n",
      " [5.00e-03 1.00e-02 1.50e-02 2.00e-02 2.50e-02 3.00e-02 3.50e-02 4.00e-02\n",
      " 4.50e-02 5.00e-02 5.50e-02 6.00e-02 6.50e-02 7.00e-02 8.00e-02 9.00e-02\n",
      " 1.00e-01 1.20e-01 1.30e-01 1.40e-01 1.50e-01 1.60e-01 1.70e-01 1.80e-01\n",
      " 1.90e-01 2.00e-01 2.10e-01 2.20e-01 2.30e-01 2.40e-01 2.50e-01 2.60e-01\n",
      " 2.70e-01 2.80e-01 2.90e-01 3.00e-01 3.10e-01 3.20e-01 3.30e-01 3.40e-01\n",
      " 3.50e-01 3.60e-01 3.70e-01 3.80e-01 3.90e-01 4.00e-01 4.10e-01 4.20e-01\n",
      " 4.30e-01 4.40e-01 4.50e-01 4.60e-01 4.70e-01 4.80e-01 4.90e-01 5.00e-01\n",
      " 5.10e-01 5.20e-01 5.30e-01 5.40e-01 5.50e-01 5.60e-01 5.70e-01 5.80e-01\n",
      " 5.90e-01 6.00e-01 6.10e-01 6.20e-01 6.30e-01 6.40e-01 6.50e-01 6.60e-01\n",
      " 6.70e-01 6.80e-01 6.90e-01 7.00e-01 7.10e-01 7.20e-01 7.30e-01 7.40e-01\n",
      " 7.50e-01 7.60e-01 7.70e-01 7.80e-01 7.90e-01 8.00e-01 8.10e-01 8.20e-01\n",
      " 8.30e-01 8.40e-01 8.50e-01 8.60e-01 8.70e-01 8.80e-01 8.90e-01 9.00e-01\n",
      " 9.10e-01 9.20e-01 9.30e-01 9.40e-01 9.50e-01 9.60e-01 9.70e-01 9.80e-01\n",
      " 9.90e-01 1.00e+00 1.01e+00 1.02e+00 1.10e+00 1.20e+00 1.30e+00 1.40e+00\n",
      " 1.50e+00 1.60e+00 1.70e+00 1.80e+00 1.90e+00 2.00e+00 2.10e+00 2.20e+00\n",
      " 2.30e+00 2.40e+00 2.50e+00 2.60e+00 2.70e+00 2.80e+00 2.90e+00 3.00e+00\n",
      " 3.10e+00 3.20e+00 3.30e+00 3.40e+00 3.50e+00 3.60e+00 3.70e+00 3.80e+00\n",
      " 3.90e+00 4.00e+00 4.10e+00 4.20e+00 4.30e+00 4.40e+00 4.50e+00 4.60e+00\n",
      " 4.70e+00 4.80e+00 4.90e+00 5.00e+00 5.10e+00 5.20e+00 5.30e+00 5.40e+00\n",
      " 5.50e+00 5.60e+00 5.70e+00 5.73e+00 5.80e+00 5.90e+00 6.00e+00 6.10e+00\n",
      " 6.20e+00 6.30e+00 6.40e+00 6.50e+00 6.60e+00 6.70e+00 6.80e+00 6.90e+00\n",
      " 7.00e+00 7.10e+00 7.20e+00 7.30e+00 7.40e+00 7.50e+00 7.60e+00 7.70e+00\n",
      " 7.80e+00 7.90e+00 8.00e+00 8.10e+00 8.20e+00 8.30e+00 8.40e+00 8.50e+00\n",
      " 8.60e+00 8.80e+00 8.90e+00 9.00e+00 9.10e+00 9.20e+00 9.30e+00 9.40e+00\n",
      " 9.50e+00 9.60e+00 9.70e+00 9.80e+00 9.90e+00 1.00e+01 1.03e+01 1.10e+01\n",
      " 1.11e+01 1.14e+01 1.20e+01 1.21e+01 1.30e+01 1.40e+01 1.44e+01 1.48e+01\n",
      " 1.50e+01 1.60e+01 1.70e+01 1.80e+01 1.84e+01 1.90e+01 2.00e+01 2.10e+01\n",
      " 2.20e+01 2.30e+01 2.40e+01 2.50e+01 2.60e+01 2.64e+01 2.70e+01 2.80e+01\n",
      " 2.90e+01 3.00e+01 3.05e+01 3.10e+01 3.20e+01 3.30e+01 3.40e+01 3.50e+01\n",
      " 3.60e+01 3.80e+01 3.90e+01 4.00e+01 4.10e+01 4.20e+01 4.30e+01 4.40e+01\n",
      " 4.50e+01 4.60e+01 4.70e+01 5.00e+01 5.10e+01 5.20e+01 5.40e+01 5.50e+01\n",
      " 5.80e+01 6.00e+01 6.10e+01 6.50e+01 6.60e+01 7.00e+01 7.60e+01 7.80e+01\n",
      " 8.00e+01 8.20e+01 8.60e+01 8.90e+01 9.80e+01 9.90e+01 1.00e+02 1.03e+02\n",
      " 1.08e+02 1.09e+02 1.16e+02 1.17e+02 1.26e+02 1.39e+02 1.43e+02 1.45e+02\n",
      " 1.51e+02 1.60e+02 1.65e+02 1.78e+02 1.83e+02 1.88e+02 1.99e+02 2.30e+02\n",
      " 2.36e+02 4.00e+02 4.40e+02 4.68e+02 4.72e+02 4.78e+02 5.30e+02]\n",
      "Unique of Colum- T4U \n",
      "Unique values \n",
      " [0. 1.]\n",
      "Unique of Colum- T4U Measured \n",
      "Unique values \n",
      " [ 0.05  0.1   0.2   0.3   0.4   0.5   0.6   0.7   0.8   0.9   1.    1.1\n",
      "  1.2   1.3   1.4   1.44  1.5   1.6   1.7   1.8   1.9   2.    2.1   2.2\n",
      "  2.3   2.4   2.5   2.6   2.7   2.8   2.9   3.    3.1   3.2   3.3   3.4\n",
      "  3.5   3.6   3.7   3.8   3.9   4.    4.1   4.2   4.3   4.4   4.5   4.6\n",
      "  4.7   4.8   4.9   5.    5.1   5.2   5.3   5.4   5.5   5.7   6.    6.1\n",
      "  6.2   6.6   6.7   7.    7.1   7.3   7.6   8.5  10.6 ]\n",
      "Unique of Colum- TSH \n",
      "Unique values \n",
      " [0. 1.]\n",
      "Unique of Colum- TSH Measured \n",
      "Unique values \n",
      " [  2.    2.9   3.    4.    4.8   5.8   6.    9.5  10.   11.   12.   13.\n",
      "  14.   15.   16.   17.   18.   19.   21.   22.   23.   24.   25.   27.\n",
      "  28.   29.   30.   31.   32.   33.   34.   35.   36.   37.   38.   39.\n",
      "  40.   41.   42.   43.   44.   45.   46.   47.   48.   49.   50.   51.\n",
      "  52.   53.   54.   55.   56.   57.   58.   59.   60.   61.   62.   63.\n",
      "  64.   65.   66.   67.   68.   69.   70.   71.   72.   73.   74.   75.\n",
      "  76.   77.   78.   79.   80.   81.   82.   83.   84.   85.   86.   87.\n",
      "  88.   89.   90.   91.   92.   93.   94.   95.   96.   97.   98.   99.\n",
      " 100.  101.  102.  103.  104.  105.  106.  107.  108.  109.  110.  111.\n",
      " 112.  113.  114.  115.  116.  117.  118.  119.  120.  121.  122.  123.\n",
      " 124.  125.  126.  127.  128.  129.  130.  131.  132.  133.  134.  135.\n",
      " 136.  137.  138.  139.  140.  141.  142.  143.  144.  145.  146.  147.\n",
      " 148.  149.  150.  151.  152.  153.  154.  155.  156.  157.  158.  159.\n",
      " 160.  161.  162.  163.  164.  165.  166.  167.  168.  169.  170.  171.\n",
      " 172.  173.  174.  175.  176.  177.  178.  179.  180.  181.  182.  183.\n",
      " 184.  186.  187.  188.  189.  191.  192.  193.  194.  195.  196.  197.\n",
      " 198.  199.  200.  201.  203.  204.  205.  206.  207.  209.  210.  211.\n",
      " 212.  213.  214.  216.  217.  219.  220.  222.  223.  225.  226.  230.\n",
      " 231.  232.  233.  235.  237.  239.  240.  244.  246.  248.  250.  252.\n",
      " 253.  255.  256.  257.  258.  261.  263.  272.  273.  289.  301.  372.\n",
      " 430. ]\n",
      "Unique of Colum- TT4 \n",
      "Unique values \n",
      " [0. 1.]\n",
      "Unique of Colum- TT4 Measured \n",
      "Unique values \n",
      " [0.25  0.31  0.36  0.38  0.41  0.46  0.47  0.48  0.49  0.5   0.52  0.53\n",
      " 0.54  0.56  0.57  0.58  0.59  0.6   0.61  0.62  0.63  0.64  0.65  0.66\n",
      " 0.67  0.68  0.69  0.7   0.71  0.72  0.73  0.74  0.75  0.76  0.77  0.78\n",
      " 0.79  0.8   0.81  0.82  0.83  0.84  0.85  0.86  0.87  0.88  0.89  0.9\n",
      " 0.91  0.92  0.93  0.94  0.944 0.95  0.96  0.97  0.98  0.99  1.    1.01\n",
      " 1.02  1.03  1.04  1.05  1.06  1.07  1.08  1.09  1.1   1.11  1.12  1.13\n",
      " 1.14  1.15  1.16  1.17  1.18  1.19  1.2   1.21  1.22  1.23  1.24  1.25\n",
      " 1.26  1.27  1.28  1.29  1.3   1.31  1.32  1.33  1.34  1.35  1.36  1.37\n",
      " 1.38  1.39  1.4   1.41  1.42  1.43  1.44  1.45  1.46  1.47  1.48  1.49\n",
      " 1.5   1.51  1.52  1.53  1.54  1.55  1.56  1.57  1.58  1.59  1.61  1.62\n",
      " 1.63  1.65  1.66  1.67  1.68  1.69  1.7   1.71  1.73  1.74  1.75  1.76\n",
      " 1.77  1.79  1.8   1.82  1.83  1.84  1.88  1.93  1.94  1.97  2.01  2.03\n",
      " 2.12  2.32 ]\n",
      "Unique of Colum- Thyroid Surgery \n",
      "Unique values \n",
      " [0. 1.]\n",
      "Unique of Colum- Tumor \n",
      "Unique values \n",
      " [  2.    2.8   3.    4.    5.4   7.    7.6   8.4   8.5   8.9   9.    9.1\n",
      "  10.   11.   13.   14.   15.   16.   17.   18.   19.   20.   21.   24.\n",
      "  26.   27.   28.   29.   32.   33.   34.   35.   36.   37.   39.   40.\n",
      "  41.   42.   43.   46.   47.   48.   49.   50.   51.   52.   53.   54.\n",
      "  55.   56.   57.   58.   59.   60.   61.   62.   63.   64.   65.   66.\n",
      "  67.   68.   69.   70.   71.   72.   73.   74.   75.   76.   77.   78.\n",
      "  79.   80.   81.   82.   83.   84.   85.   86.   87.   88.   89.   90.\n",
      "  91.   92.   93.   94.   95.   96.   97.   98.   99.  100.  101.  102.\n",
      " 103.  104.  105.  106.  107.  108.  109.  110.  111.  112.  113.  114.\n",
      " 115.  116.  117.  118.  119.  120.  121.  122.  123.  124.  125.  126.\n",
      " 127.  128.  129.  130.  131.  132.  133.  134.  135.  136.  137.  138.\n",
      " 139.  140.  141.  142.  143.  144.  145.  146.  147.  148.  149.  150.\n",
      " 151.  152.  153.  154.  155.  156.  157.  158.  159.  160.  161.  162.\n",
      " 163.  164.  165.  166.  167.  168.  169.  170.  171.  172.  173.  174.\n",
      " 175.  176.  177.  178.  179.  180.  181.  182.  183.  184.  185.  186.\n",
      " 187.  188.  189.  190.  191.  194.  195.  196.  197.  198.  199.  200.\n",
      " 201.  203.  204.  205.  206.  207.  209.  210.  213.  214.  215.  216.\n",
      " 217.  218.  219.  220.  221.  222.  223.  224.  227.  228.  232.  235.\n",
      " 237.  242.  244.  245.  247.  249.  251.  253.  265.  274.  280.  281.\n",
      " 283.  291.  312.  349.  362.  395. ]\n",
      "Unique of Colum- Category \n",
      "Unique values \n",
      " ['N' 'P' 'hyperthyroid' 'hypothyroid']\n"
     ]
    }
   ],
   "source": [
    "for col in thyroid_data.columns: \n",
    "    print(\"Unique of Colum-\",col ,\"\\nUnique values \\n\",np.sort(thyroid_data[col].unique()))"
   ]
  },
  {
   "cell_type": "markdown",
   "id": "8d1eafc5",
   "metadata": {},
   "source": [
    "# Split Data"
   ]
  },
  {
   "cell_type": "code",
   "execution_count": 18,
   "id": "9b92773e",
   "metadata": {},
   "outputs": [],
   "source": [
    "X = thyroid_data.drop('Category', axis=1)\n",
    "y = thyroid_data['Category']\n",
    "\n",
    "col_names = X.columns\n",
    "\n",
    "X_train, X_test, y_train, y_test = train_test_split(X, y, test_size=0.25, stratify=y)\n",
    "\n",
    "scaler = MinMaxScaler()\n",
    "X_train = pd.DataFrame(scaler.fit_transform(X_train))\n",
    "X_test = pd.DataFrame(scaler.transform(X_test))"
   ]
  },
  {
   "cell_type": "code",
   "execution_count": 19,
   "id": "d571b4b7",
   "metadata": {},
   "outputs": [
    {
     "data": {
      "image/png": "[encoded data removed]",
      "text/plain": [
       "<Figure size 720x720 with 1 Axes>"
      ]
     },
     "metadata": {},
     "output_type": "display_data"
    }
   ],
   "source": [
    "def plot_pca_data(X, y):    \n",
    "    \n",
    "    LE = LabelEncoder()\n",
    "    y_encoded = LE.fit_transform(y)\n",
    "    \n",
    "    pca = PCA(n_components=2)\n",
    "    pca.fit(X)\n",
    "    pca_X = pca.transform(X)\n",
    "\n",
    "    x_axis = pca_X[:,0]\n",
    "    y_axis = pca_X[:,1]\n",
    "\n",
    "    fig = plt.figure(figsize=(10,10))\n",
    "    ax = fig.add_subplot(111)\n",
    "    \n",
    "    for label in np.unique(y):\n",
    "        ax.scatter(pca_X[y==label, 0],\n",
    "                   pca_X[y==label, 1], \n",
    "                   label=label,\n",
    "                   s=100,\n",
    "                   edgecolor='k')\n",
    "        \n",
    "\n",
    "    ax.legend()\n",
    "    plt.xticks([])\n",
    "    plt.yticks([])\n",
    "\n",
    "plot_pca_data(X, y)"
   ]
  },
  {
   "cell_type": "markdown",
   "id": "a6f9e14b",
   "metadata": {},
   "source": [
    "# Parameter of KNN Selection"
   ]
  },
  {
   "cell_type": "code",
   "execution_count": 21,
   "id": "1be652bf",
   "metadata": {},
   "outputs": [
    {
     "data": {
      "text/plain": [
       "RandomForestClassifier(random_state=0)"
      ]
     },
     "execution_count": 21,
     "metadata": {},
     "output_type": "execute_result"
    }
   ],
   "source": [
    " # create regressor object\n",
    "regressor = RandomForestClassifier(n_estimators = 100, criterion='gini', random_state = 0)\n",
    " \n",
    "# fit the regressor with x and y data\n",
    "regressor.fit(X, y) "
   ]
  },
  {
   "cell_type": "code",
   "execution_count": 32,
   "id": "5cbe9ce6",
   "metadata": {},
   "outputs": [
    {
     "name": "stdout",
     "output_type": "stream",
     "text": [
      "Accuracy Score 0.33270457199317344\n",
      "Best params {'n_estimators': 2, 'min_samples_leaf': 4, 'max_features': 1, 'max_depth': 4}\n",
      "Best score 0.32974034664507706\n"
     ]
    }
   ],
   "source": [
    "from sklearn.pipeline import Pipeline\n",
    "pipeline= Pipeline([\n",
    "   ('scaler',StandardScaler()),\n",
    "    ('pca', PCA()),\n",
    "   ('clf',RandomForestClassifier(n_estimators=5,max_depth=1,min_samples_leaf=3, max_features=6, random_state=42))\n",
    "])\n",
    "pipeline.fit(X_train,y_train)\n",
    "\n",
    "\n",
    "\n",
    "parameter_grid={'n_estimators':[1,2,3,4,5],'max_depth':[2,4,6,8,10],'min_samples_leaf': \n",
    "[1,2,4],'max_features':[1,2,3,4,5,6,7,8]}\n",
    "\n",
    "number_models=4\n",
    "random_RandomForest_class=RandomizedSearchCV(\n",
    "estimator=pipeline['clf'],\n",
    "param_distributions=parameter_grid,\n",
    "n_iter=number_models,\n",
    "scoring='accuracy',\n",
    "n_jobs=2,\n",
    "cv=4,\n",
    "refit=True,\n",
    "return_train_score=True)\n",
    "\n",
    "random_RandomForest_class.fit(X_train,y_train)\n",
    "predictions=random_RandomForest_class.predict(X)\n",
    "\n",
    "print(\"Accuracy Score\",accuracy_score(y,predictions));\n",
    "print(\"Best params\",random_RandomForest_class.best_params_)\n",
    "print(\"Best score\",random_RandomForest_class.best_score_)"
   ]
  },
  {
   "cell_type": "markdown",
   "id": "4fbbb026",
   "metadata": {},
   "source": [
    "# Classify on Test Set"
   ]
  },
  {
   "cell_type": "code",
   "execution_count": 33,
   "id": "93643b15",
   "metadata": {},
   "outputs": [
    {
     "name": "stdout",
     "output_type": "stream",
     "text": [
      "['hyperthyroid' 'hyperthyroid' 'hypothyroid' ... 'hyperthyroid'\n",
      " 'hyperthyroid' 'hypothyroid']\n",
      "Random Forest Accuracy:  33.2884218090362 %\n"
     ]
    },
    {
     "data": {
      "text/plain": [
       "'\\n##\\ny_true, y_pred = y_test, svm_clf.predict(X_test)\\n\\nprint(\"Accuracy:\",accuracy_score(y_test, y_pred))\\nprint(\"*\"*50)\\nprint()\\nprint(\"\\t\\t\\tClassification Report\")\\nprint()\\nprint(classification_report(y_true, y_pred))\\n'"
      ]
     },
     "execution_count": 33,
     "metadata": {},
     "output_type": "execute_result"
    }
   ],
   "source": [
    "#predicting on the test set and creating submission file\n",
    " # create regressor object\n",
    "regressor = RandomForestClassifier(n_estimators = 2, min_samples_leaf= 4, max_features= 1, max_depth= 4)\n",
    " \n",
    "# fit the regressor with x and y data\n",
    "regressor.fit(X, y) \n",
    "\n",
    "y_pred = regressor.predict(X_test)\n",
    "\n",
    "accuracy = regressor.score(X,y)\n",
    "print( 'Random Forest Accuracy: ', accuracy*100,'%')\n",
    "\n",
    "\n",
    "\"\"\"\n",
    "#data_pred\n",
    "model = KNeighborsClassifier(n_neighbors = 159)\n",
    "model.fit(X_train, y_train)  #fit the \n",
    "\n",
    "\n",
    "accuracy=model.score(X_test, y_test)*100\n",
    "\n",
    "print(\"\\nAccuracy of Model is :\",accuracy)\n",
    "\n",
    "\n",
    "y_true, y_pred = y_test, model.predict(X_test)\n",
    "\n",
    "\"\"\"\n",
    "\"\"\"\n",
    "##\n",
    "y_true, y_pred = y_test, svm_clf.predict(X_test)\n",
    "\n",
    "print(\"Accuracy:\",accuracy_score(y_test, y_pred))\n",
    "print(\"*\"*50)\n",
    "print()\n",
    "print(\"\\t\\t\\tClassification Report\")\n",
    "print()\n",
    "print(classification_report(y_true, y_pred))\n",
    "\"\"\""
   ]
  },
  {
   "cell_type": "code",
   "execution_count": 34,
   "id": "44ae8271",
   "metadata": {},
   "outputs": [
    {
     "name": "stdout",
     "output_type": "stream",
     "text": [
      "[[151 738   0  39   0]\n",
      " [162 744   0  22   0]\n",
      " [  0   0   0   0   0]\n",
      " [159 659   0  37   0]\n",
      " [  9  63   0   1   0]]\n"
     ]
    }
   ],
   "source": [
    "# Confusion Matrix\n",
    "y_true, y_pred = y_test, regressor.predict(X_test)\n",
    "cm = confusion_matrix(y_true, y_pred, labels=classes)\n",
    "print(cm)"
   ]
  },
  {
   "cell_type": "code",
   "execution_count": null,
   "id": "1453aca6",
   "metadata": {},
   "outputs": [],
   "source": []
  },
  {
   "cell_type": "code",
   "execution_count": null,
   "id": "9d108ffb",
   "metadata": {},
   "outputs": [],
   "source": []
  },
  {
   "cell_type": "code",
   "execution_count": null,
   "id": "fc6abb24",
   "metadata": {},
   "outputs": [],
   "source": []
  }
 ],
 "metadata": {
  "kernelspec": {
   "display_name": "Python 3 (ipykernel)",
   "language": "python",
   "name": "python3"
  },
  "language_info": {
   "codemirror_mode": {
    "name": "ipython",
    "version": 3
   },
   "file_extension": ".py",
   "mimetype": "text/x-python",
   "name": "python",
   "nbconvert_exporter": "python",
   "pygments_lexer": "ipython3",
   "version": "3.9.7"
  }
 },
 "nbformat": 4,
 "nbformat_minor": 5
}
